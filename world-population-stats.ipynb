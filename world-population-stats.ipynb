{
 "cells": [
  {
   "cell_type": "code",
   "execution_count": 1,
   "id": "275fe741",
   "metadata": {
    "_cell_guid": "b1076dfc-b9ad-4769-8c92-a6c4dae69d19",
    "_uuid": "8f2839f25d086af736a60e9eeb907d3b93b6e0e5",
    "execution": {
     "iopub.execute_input": "2022-04-06T13:55:29.054017Z",
     "iopub.status.busy": "2022-04-06T13:55:29.052850Z",
     "iopub.status.idle": "2022-04-06T13:55:30.143624Z",
     "shell.execute_reply": "2022-04-06T13:55:30.142719Z",
     "shell.execute_reply.started": "2022-04-06T13:29:40.610036Z"
    },
    "papermill": {
     "duration": 1.114685,
     "end_time": "2022-04-06T13:55:30.143864",
     "exception": false,
     "start_time": "2022-04-06T13:55:29.029179",
     "status": "completed"
    },
    "tags": []
   },
   "outputs": [],
   "source": [
    "# Libraries\n",
    "import numpy as np # linear algebra\n",
    "import pandas as pd # data processing, CSV file I/O (e.g. pd.read_csv)\n",
    "\n",
    "# Visualisation\n",
    "import seaborn as sns\n",
    "import matplotlib.pyplot as plt\n",
    "sns.set_theme(style=\"white\")"
   ]
  },
  {
   "cell_type": "markdown",
   "id": "319219ac",
   "metadata": {
    "papermill": {
     "duration": 0.015596,
     "end_time": "2022-04-06T13:55:30.181481",
     "exception": false,
     "start_time": "2022-04-06T13:55:30.165885",
     "status": "completed"
    },
    "tags": []
   },
   "source": [
    "# World population Stats"
   ]
  },
  {
   "cell_type": "markdown",
   "id": "2f3cfc3c",
   "metadata": {
    "papermill": {
     "duration": 0.016026,
     "end_time": "2022-04-06T13:55:30.213444",
     "exception": false,
     "start_time": "2022-04-06T13:55:30.197418",
     "status": "completed"
    },
    "tags": []
   },
   "source": [
    "## Author : Ammar Abul-feilat\n",
    "## date : 4/6/2022"
   ]
  },
  {
   "cell_type": "code",
   "execution_count": 2,
   "id": "178dbbe6",
   "metadata": {
    "execution": {
     "iopub.execute_input": "2022-04-06T13:55:30.248103Z",
     "iopub.status.busy": "2022-04-06T13:55:30.247499Z",
     "iopub.status.idle": "2022-04-06T13:55:30.290252Z",
     "shell.execute_reply": "2022-04-06T13:55:30.290703Z",
     "shell.execute_reply.started": "2022-04-06T13:29:41.168459Z"
    },
    "papermill": {
     "duration": 0.061801,
     "end_time": "2022-04-06T13:55:30.290859",
     "exception": false,
     "start_time": "2022-04-06T13:55:30.229058",
     "status": "completed"
    },
    "tags": []
   },
   "outputs": [
    {
     "data": {
      "text/html": [
       "<div>\n",
       "<style scoped>\n",
       "    .dataframe tbody tr th:only-of-type {\n",
       "        vertical-align: middle;\n",
       "    }\n",
       "\n",
       "    .dataframe tbody tr th {\n",
       "        vertical-align: top;\n",
       "    }\n",
       "\n",
       "    .dataframe thead th {\n",
       "        text-align: right;\n",
       "    }\n",
       "</style>\n",
       "<table border=\"1\" class=\"dataframe\">\n",
       "  <thead>\n",
       "    <tr style=\"text-align: right;\">\n",
       "      <th></th>\n",
       "      <th>Country/Other</th>\n",
       "      <th>Population (2020)</th>\n",
       "      <th>Yearly Change</th>\n",
       "      <th>Net Change</th>\n",
       "      <th>Density (P/Km²)</th>\n",
       "      <th>Land Area (Km²)</th>\n",
       "      <th>Migrants (net)</th>\n",
       "      <th>Fert. Rate</th>\n",
       "      <th>Med. Age</th>\n",
       "      <th>Urban Pop %</th>\n",
       "      <th>World Share</th>\n",
       "    </tr>\n",
       "  </thead>\n",
       "  <tbody>\n",
       "    <tr>\n",
       "      <th>0</th>\n",
       "      <td>Afghanistan</td>\n",
       "      <td>38928346</td>\n",
       "      <td>2.33</td>\n",
       "      <td>886592</td>\n",
       "      <td>60</td>\n",
       "      <td>652860</td>\n",
       "      <td>-62920</td>\n",
       "      <td>4.6</td>\n",
       "      <td>18</td>\n",
       "      <td>25.0</td>\n",
       "      <td>0.50</td>\n",
       "    </tr>\n",
       "    <tr>\n",
       "      <th>1</th>\n",
       "      <td>Albania</td>\n",
       "      <td>2877797</td>\n",
       "      <td>-0.11</td>\n",
       "      <td>-3120</td>\n",
       "      <td>105</td>\n",
       "      <td>27400</td>\n",
       "      <td>-14000</td>\n",
       "      <td>1.6</td>\n",
       "      <td>36</td>\n",
       "      <td>63.0</td>\n",
       "      <td>0.04</td>\n",
       "    </tr>\n",
       "    <tr>\n",
       "      <th>2</th>\n",
       "      <td>Algeria</td>\n",
       "      <td>43851044</td>\n",
       "      <td>1.85</td>\n",
       "      <td>797990</td>\n",
       "      <td>18</td>\n",
       "      <td>2381740</td>\n",
       "      <td>-10000</td>\n",
       "      <td>3.1</td>\n",
       "      <td>29</td>\n",
       "      <td>73.0</td>\n",
       "      <td>0.56</td>\n",
       "    </tr>\n",
       "    <tr>\n",
       "      <th>3</th>\n",
       "      <td>Angola</td>\n",
       "      <td>32866272</td>\n",
       "      <td>3.27</td>\n",
       "      <td>1040977</td>\n",
       "      <td>26</td>\n",
       "      <td>1246700</td>\n",
       "      <td>6413</td>\n",
       "      <td>5.6</td>\n",
       "      <td>17</td>\n",
       "      <td>67.0</td>\n",
       "      <td>0.42</td>\n",
       "    </tr>\n",
       "    <tr>\n",
       "      <th>4</th>\n",
       "      <td>Antigua and Barbuda</td>\n",
       "      <td>97929</td>\n",
       "      <td>0.84</td>\n",
       "      <td>811</td>\n",
       "      <td>223</td>\n",
       "      <td>440</td>\n",
       "      <td>0</td>\n",
       "      <td>2.0</td>\n",
       "      <td>34</td>\n",
       "      <td>26.0</td>\n",
       "      <td>0.00</td>\n",
       "    </tr>\n",
       "  </tbody>\n",
       "</table>\n",
       "</div>"
      ],
      "text/plain": [
       "         Country/Other  Population (2020)  Yearly Change  Net Change  \\\n",
       "0          Afghanistan           38928346           2.33      886592   \n",
       "1              Albania            2877797          -0.11       -3120   \n",
       "2              Algeria           43851044           1.85      797990   \n",
       "3               Angola           32866272           3.27     1040977   \n",
       "4  Antigua and Barbuda              97929           0.84         811   \n",
       "\n",
       "   Density (P/Km²)  Land Area (Km²)  Migrants (net)  Fert. Rate  Med. Age  \\\n",
       "0               60           652860          -62920         4.6        18   \n",
       "1              105            27400          -14000         1.6        36   \n",
       "2               18          2381740          -10000         3.1        29   \n",
       "3               26          1246700            6413         5.6        17   \n",
       "4              223              440               0         2.0        34   \n",
       "\n",
       "   Urban Pop %  World Share  \n",
       "0         25.0         0.50  \n",
       "1         63.0         0.04  \n",
       "2         73.0         0.56  \n",
       "3         67.0         0.42  \n",
       "4         26.0         0.00  "
      ]
     },
     "execution_count": 2,
     "metadata": {},
     "output_type": "execute_result"
    }
   ],
   "source": [
    "# Load Data\n",
    "df = pd.read_csv('../input/countries-in-the-world-by-population-2022/world_population.csv')\n",
    "\n",
    "\n",
    "\n",
    "# View Data\n",
    "df.head()"
   ]
  },
  {
   "cell_type": "code",
   "execution_count": 3,
   "id": "0249c62d",
   "metadata": {
    "execution": {
     "iopub.execute_input": "2022-04-06T13:55:30.327126Z",
     "iopub.status.busy": "2022-04-06T13:55:30.326213Z",
     "iopub.status.idle": "2022-04-06T13:55:30.372648Z",
     "shell.execute_reply": "2022-04-06T13:55:30.373087Z",
     "shell.execute_reply.started": "2022-04-06T13:29:41.201708Z"
    },
    "papermill": {
     "duration": 0.06584,
     "end_time": "2022-04-06T13:55:30.373256",
     "exception": false,
     "start_time": "2022-04-06T13:55:30.307416",
     "status": "completed"
    },
    "tags": []
   },
   "outputs": [
    {
     "data": {
      "text/html": [
       "<div>\n",
       "<style scoped>\n",
       "    .dataframe tbody tr th:only-of-type {\n",
       "        vertical-align: middle;\n",
       "    }\n",
       "\n",
       "    .dataframe tbody tr th {\n",
       "        vertical-align: top;\n",
       "    }\n",
       "\n",
       "    .dataframe thead th {\n",
       "        text-align: right;\n",
       "    }\n",
       "</style>\n",
       "<table border=\"1\" class=\"dataframe\">\n",
       "  <thead>\n",
       "    <tr style=\"text-align: right;\">\n",
       "      <th></th>\n",
       "      <th>count</th>\n",
       "      <th>mean</th>\n",
       "      <th>std</th>\n",
       "      <th>min</th>\n",
       "      <th>25%</th>\n",
       "      <th>50%</th>\n",
       "      <th>75%</th>\n",
       "      <th>max</th>\n",
       "    </tr>\n",
       "  </thead>\n",
       "  <tbody>\n",
       "    <tr>\n",
       "      <th>Population (2020)</th>\n",
       "      <td>201.0</td>\n",
       "      <td>3.877661e+07</td>\n",
       "      <td>1.454245e+08</td>\n",
       "      <td>97929.00</td>\n",
       "      <td>1886198.00</td>\n",
       "      <td>8654622.00</td>\n",
       "      <td>27691018.00</td>\n",
       "      <td>1.439324e+09</td>\n",
       "    </tr>\n",
       "    <tr>\n",
       "      <th>Yearly Change</th>\n",
       "      <td>201.0</td>\n",
       "      <td>1.200299e+00</td>\n",
       "      <td>1.091574e+00</td>\n",
       "      <td>-2.47</td>\n",
       "      <td>0.42</td>\n",
       "      <td>1.08</td>\n",
       "      <td>1.96</td>\n",
       "      <td>3.840000e+00</td>\n",
       "    </tr>\n",
       "    <tr>\n",
       "      <th>Net Change</th>\n",
       "      <td>201.0</td>\n",
       "      <td>4.046234e+05</td>\n",
       "      <td>1.210610e+06</td>\n",
       "      <td>-383840.00</td>\n",
       "      <td>4103.00</td>\n",
       "      <td>60403.00</td>\n",
       "      <td>360204.00</td>\n",
       "      <td>1.358663e+07</td>\n",
       "    </tr>\n",
       "    <tr>\n",
       "      <th>Density (P/Km²)</th>\n",
       "      <td>201.0</td>\n",
       "      <td>3.617114e+02</td>\n",
       "      <td>1.710322e+03</td>\n",
       "      <td>2.00</td>\n",
       "      <td>34.00</td>\n",
       "      <td>89.00</td>\n",
       "      <td>228.00</td>\n",
       "      <td>2.164500e+04</td>\n",
       "    </tr>\n",
       "    <tr>\n",
       "      <th>Land Area (Km²)</th>\n",
       "      <td>201.0</td>\n",
       "      <td>6.450903e+05</td>\n",
       "      <td>1.809408e+06</td>\n",
       "      <td>30.00</td>\n",
       "      <td>21640.00</td>\n",
       "      <td>108560.00</td>\n",
       "      <td>498800.00</td>\n",
       "      <td>1.637687e+07</td>\n",
       "    </tr>\n",
       "    <tr>\n",
       "      <th>Migrants (net)</th>\n",
       "      <td>201.0</td>\n",
       "      <td>-5.442786e+00</td>\n",
       "      <td>1.232921e+05</td>\n",
       "      <td>-653249.00</td>\n",
       "      <td>-10047.00</td>\n",
       "      <td>-960.00</td>\n",
       "      <td>9741.00</td>\n",
       "      <td>9.548060e+05</td>\n",
       "    </tr>\n",
       "    <tr>\n",
       "      <th>Fert. Rate</th>\n",
       "      <td>201.0</td>\n",
       "      <td>2.692040e+00</td>\n",
       "      <td>1.264253e+00</td>\n",
       "      <td>1.10</td>\n",
       "      <td>1.70</td>\n",
       "      <td>2.30</td>\n",
       "      <td>3.60</td>\n",
       "      <td>7.000000e+00</td>\n",
       "    </tr>\n",
       "    <tr>\n",
       "      <th>Med. Age</th>\n",
       "      <td>201.0</td>\n",
       "      <td>3.062189e+01</td>\n",
       "      <td>9.119557e+00</td>\n",
       "      <td>15.00</td>\n",
       "      <td>22.00</td>\n",
       "      <td>30.00</td>\n",
       "      <td>39.00</td>\n",
       "      <td>4.800000e+01</td>\n",
       "    </tr>\n",
       "    <tr>\n",
       "      <th>Urban Pop %</th>\n",
       "      <td>194.0</td>\n",
       "      <td>5.963402e+01</td>\n",
       "      <td>2.222670e+01</td>\n",
       "      <td>13.00</td>\n",
       "      <td>43.00</td>\n",
       "      <td>60.00</td>\n",
       "      <td>78.75</td>\n",
       "      <td>1.000000e+02</td>\n",
       "    </tr>\n",
       "    <tr>\n",
       "      <th>World Share</th>\n",
       "      <td>201.0</td>\n",
       "      <td>4.974627e-01</td>\n",
       "      <td>1.865678e+00</td>\n",
       "      <td>0.00</td>\n",
       "      <td>0.02</td>\n",
       "      <td>0.11</td>\n",
       "      <td>0.36</td>\n",
       "      <td>1.847000e+01</td>\n",
       "    </tr>\n",
       "  </tbody>\n",
       "</table>\n",
       "</div>"
      ],
      "text/plain": [
       "                   count          mean           std        min         25%  \\\n",
       "Population (2020)  201.0  3.877661e+07  1.454245e+08   97929.00  1886198.00   \n",
       "Yearly Change      201.0  1.200299e+00  1.091574e+00      -2.47        0.42   \n",
       "Net Change         201.0  4.046234e+05  1.210610e+06 -383840.00     4103.00   \n",
       "Density (P/Km²)    201.0  3.617114e+02  1.710322e+03       2.00       34.00   \n",
       "Land Area (Km²)    201.0  6.450903e+05  1.809408e+06      30.00    21640.00   \n",
       "Migrants (net)     201.0 -5.442786e+00  1.232921e+05 -653249.00   -10047.00   \n",
       "Fert. Rate         201.0  2.692040e+00  1.264253e+00       1.10        1.70   \n",
       "Med. Age           201.0  3.062189e+01  9.119557e+00      15.00       22.00   \n",
       "Urban Pop %        194.0  5.963402e+01  2.222670e+01      13.00       43.00   \n",
       "World Share        201.0  4.974627e-01  1.865678e+00       0.00        0.02   \n",
       "\n",
       "                          50%          75%           max  \n",
       "Population (2020)  8654622.00  27691018.00  1.439324e+09  \n",
       "Yearly Change            1.08         1.96  3.840000e+00  \n",
       "Net Change           60403.00    360204.00  1.358663e+07  \n",
       "Density (P/Km²)         89.00       228.00  2.164500e+04  \n",
       "Land Area (Km²)     108560.00    498800.00  1.637687e+07  \n",
       "Migrants (net)        -960.00      9741.00  9.548060e+05  \n",
       "Fert. Rate               2.30         3.60  7.000000e+00  \n",
       "Med. Age                30.00        39.00  4.800000e+01  \n",
       "Urban Pop %             60.00        78.75  1.000000e+02  \n",
       "World Share              0.11         0.36  1.847000e+01  "
      ]
     },
     "execution_count": 3,
     "metadata": {},
     "output_type": "execute_result"
    }
   ],
   "source": [
    "df.describe(include=np.number).transpose()"
   ]
  },
  {
   "cell_type": "code",
   "execution_count": 4,
   "id": "a39f59f1",
   "metadata": {
    "execution": {
     "iopub.execute_input": "2022-04-06T13:55:30.410349Z",
     "iopub.status.busy": "2022-04-06T13:55:30.409445Z",
     "iopub.status.idle": "2022-04-06T13:55:30.422727Z",
     "shell.execute_reply": "2022-04-06T13:55:30.421890Z",
     "shell.execute_reply.started": "2022-04-06T13:29:41.247900Z"
    },
    "papermill": {
     "duration": 0.03319,
     "end_time": "2022-04-06T13:55:30.422944",
     "exception": false,
     "start_time": "2022-04-06T13:55:30.389754",
     "status": "completed"
    },
    "tags": []
   },
   "outputs": [
    {
     "data": {
      "text/plain": [
       "(     Population (2020)  Country/Other\n",
       " 36          1439323776          China\n",
       " 82          1380004385          India\n",
       " 191          331002651  United States\n",
       " 83           273523615      Indonesia\n",
       " 136          220892340       Pakistan,\n",
       "      Population (2020)        Country/Other\n",
       " 7               106766                Aruba\n",
       " 181             105695                Tonga\n",
       " 186             104425  U.S. Virgin Islands\n",
       " 156              98347           Seychelles\n",
       " 4                97929  Antigua and Barbuda)"
      ]
     },
     "execution_count": 4,
     "metadata": {},
     "output_type": "execute_result"
    }
   ],
   "source": [
    "highest_pop=df[['Population (2020)','Country/Other']].sort_values(by='Population (2020)',ascending=False).head(5)\n",
    "lowest_pop=df[['Population (2020)','Country/Other']].sort_values(by='Population (2020)',ascending=False).tail(5)\n",
    "highest_pop,lowest_pop\n"
   ]
  },
  {
   "cell_type": "code",
   "execution_count": 5,
   "id": "b2de0b5b",
   "metadata": {
    "execution": {
     "iopub.execute_input": "2022-04-06T13:55:30.463358Z",
     "iopub.status.busy": "2022-04-06T13:55:30.462702Z",
     "iopub.status.idle": "2022-04-06T13:55:30.464257Z",
     "shell.execute_reply": "2022-04-06T13:55:30.464678Z",
     "shell.execute_reply.started": "2022-04-06T13:29:41.262933Z"
    },
    "papermill": {
     "duration": 0.023618,
     "end_time": "2022-04-06T13:55:30.464846",
     "exception": false,
     "start_time": "2022-04-06T13:55:30.441228",
     "status": "completed"
    },
    "tags": []
   },
   "outputs": [],
   "source": [
    "def the_five_of(col):\n",
    "    temp = df[['Country/Other', col]]\n",
    "    temp.sort_values(col, ascending=False)"
   ]
  },
  {
   "cell_type": "code",
   "execution_count": 6,
   "id": "475eb896",
   "metadata": {
    "execution": {
     "iopub.execute_input": "2022-04-06T13:55:30.501682Z",
     "iopub.status.busy": "2022-04-06T13:55:30.501099Z",
     "iopub.status.idle": "2022-04-06T13:55:30.505566Z",
     "shell.execute_reply": "2022-04-06T13:55:30.506039Z",
     "shell.execute_reply.started": "2022-04-06T13:29:41.270155Z"
    },
    "papermill": {
     "duration": 0.024518,
     "end_time": "2022-04-06T13:55:30.506210",
     "exception": false,
     "start_time": "2022-04-06T13:55:30.481692",
     "status": "completed"
    },
    "tags": []
   },
   "outputs": [],
   "source": [
    "the_five_of('Population (2020)')"
   ]
  },
  {
   "cell_type": "markdown",
   "id": "df7b6baf",
   "metadata": {
    "papermill": {
     "duration": 0.017546,
     "end_time": "2022-04-06T13:55:30.541301",
     "exception": false,
     "start_time": "2022-04-06T13:55:30.523755",
     "status": "completed"
    },
    "tags": []
   },
   "source": [
    "### The Follwoing Graph shows the huge gap of population between the Top 5 highest pop Countries, and the lowest 5 pop Countries"
   ]
  },
  {
   "cell_type": "code",
   "execution_count": 7,
   "id": "2e04ab63",
   "metadata": {
    "_kg_hide-input": false,
    "execution": {
     "iopub.execute_input": "2022-04-06T13:55:30.580537Z",
     "iopub.status.busy": "2022-04-06T13:55:30.579643Z",
     "iopub.status.idle": "2022-04-06T13:55:30.921505Z",
     "shell.execute_reply": "2022-04-06T13:55:30.922138Z",
     "shell.execute_reply.started": "2022-04-06T13:35:26.175161Z"
    },
    "papermill": {
     "duration": 0.363467,
     "end_time": "2022-04-06T13:55:30.922338",
     "exception": false,
     "start_time": "2022-04-06T13:55:30.558871",
     "status": "completed"
    },
    "tags": []
   },
   "outputs": [
    {
     "name": "stderr",
     "output_type": "stream",
     "text": [
      "/opt/conda/lib/python3.7/site-packages/ipykernel_launcher.py:7: UserWarning: 'set_params()' not defined for locator of type <class 'matplotlib.category.StrCategoryLocator'>\n",
      "  import sys\n"
     ]
    },
    {
     "data": {
      "image/png": "[encoded data removed]",
      "text/plain": [
       "<Figure size 1400x1120 with 1 Axes>"
      ]
     },
     "metadata": {},
     "output_type": "display_data"
    }
   ],
   "source": [
    "from matplotlib.pyplot import figure\n",
    "\n",
    "figure(figsize=(10, 8), dpi=140)\n",
    "plt.style.use('_mpl-gallery')\n",
    "plt.bar(highest_pop['Country/Other'],highest_pop['Population (2020)'],width=0.8,color='g')\n",
    "plt.bar(lowest_pop['Country/Other'],lowest_pop['Population (2020)'],width=0.8,color='r')\n",
    "plt.locator_params(nbins = 20)\n",
    "plt.ylim(ymin=1000,ymax=1500000)\n",
    "plt.show()"
   ]
  },
  {
   "cell_type": "markdown",
   "id": "8747c4a9",
   "metadata": {
    "papermill": {
     "duration": 0.018509,
     "end_time": "2022-04-06T13:55:30.961892",
     "exception": false,
     "start_time": "2022-04-06T13:55:30.943383",
     "status": "completed"
    },
    "tags": []
   },
   "source": [
    "### The Follwoing Graph shows the huge gap of population between the Top 5 highest pop Countries with China as The Max of almost 1.5B person"
   ]
  },
  {
   "cell_type": "code",
   "execution_count": 8,
   "id": "aaf33e93",
   "metadata": {
    "execution": {
     "iopub.execute_input": "2022-04-06T13:55:31.003306Z",
     "iopub.status.busy": "2022-04-06T13:55:31.002669Z",
     "iopub.status.idle": "2022-04-06T13:55:31.320017Z",
     "shell.execute_reply": "2022-04-06T13:55:31.320485Z",
     "shell.execute_reply.started": "2022-04-06T13:35:13.989951Z"
    },
    "papermill": {
     "duration": 0.340004,
     "end_time": "2022-04-06T13:55:31.320646",
     "exception": false,
     "start_time": "2022-04-06T13:55:30.980642",
     "status": "completed"
    },
    "tags": []
   },
   "outputs": [
    {
     "name": "stderr",
     "output_type": "stream",
     "text": [
      "/opt/conda/lib/python3.7/site-packages/ipykernel_launcher.py:4: UserWarning: 'set_params()' not defined for locator of type <class 'matplotlib.category.StrCategoryLocator'>\n",
      "  after removing the cwd from sys.path.\n"
     ]
    },
    {
     "data": {
      "image/png": "[encoded data removed]",
      "text/plain": [
       "<Figure size 800x600 with 1 Axes>"
      ]
     },
     "metadata": {},
     "output_type": "display_data"
    }
   ],
   "source": [
    "figure(figsize=(8, 6), dpi=100)\n",
    "plt.style.use('_mpl-gallery')\n",
    "plt.bar(highest_pop['Country/Other'],highest_pop['Population (2020)'],width=0.8,color='g')\n",
    "plt.locator_params(nbins =50)\n",
    "plt.ylim(ymin=1000,ymax=1500000000)\n",
    "plt.show()"
   ]
  },
  {
   "cell_type": "markdown",
   "id": "abff51b4",
   "metadata": {
    "papermill": {
     "duration": 0.021067,
     "end_time": "2022-04-06T13:55:31.362473",
     "exception": false,
     "start_time": "2022-04-06T13:55:31.341406",
     "status": "completed"
    },
    "tags": []
   },
   "source": [
    "## lets Check the Yearly and the net Change for the top 5 Countries"
   ]
  },
  {
   "cell_type": "code",
   "execution_count": 9,
   "id": "f6e42c77",
   "metadata": {
    "execution": {
     "iopub.execute_input": "2022-04-06T13:55:31.409962Z",
     "iopub.status.busy": "2022-04-06T13:55:31.409351Z",
     "iopub.status.idle": "2022-04-06T13:55:31.417104Z",
     "shell.execute_reply": "2022-04-06T13:55:31.417635Z",
     "shell.execute_reply.started": "2022-04-06T13:37:32.850866Z"
    },
    "papermill": {
     "duration": 0.034646,
     "end_time": "2022-04-06T13:55:31.417796",
     "exception": false,
     "start_time": "2022-04-06T13:55:31.383150",
     "status": "completed"
    },
    "tags": []
   },
   "outputs": [
    {
     "data": {
      "text/plain": [
       "(     Yearly Change      Country/Other\n",
       " 130           3.84              Niger\n",
       " 12            3.68            Bahrain\n",
       " 54            3.47  Equatorial Guinea\n",
       " 187           3.32             Uganda\n",
       " 3             3.27             Angola,\n",
       "      Net Change Country/Other\n",
       " 82     13586631         India\n",
       " 36      5540090         China\n",
       " 131     5175990       Nigeria\n",
       " 136     4327022      Pakistan\n",
       " 83      2898047     Indonesia)"
      ]
     },
     "execution_count": 9,
     "metadata": {},
     "output_type": "execute_result"
    }
   ],
   "source": [
    "highest_yearly_change=df[['Yearly Change','Country/Other']].sort_values(by='Yearly Change',ascending=False).head(5)\n",
    "highest_Net_Change=df[['Net Change','Country/Other']].sort_values(by='Net Change',ascending=False).head(5)\n",
    "highest_yearly_change,highest_Net_Change"
   ]
  },
  {
   "cell_type": "markdown",
   "id": "349e562d",
   "metadata": {
    "papermill": {
     "duration": 0.021158,
     "end_time": "2022-04-06T13:55:31.460290",
     "exception": false,
     "start_time": "2022-04-06T13:55:31.439132",
     "status": "completed"
    },
    "tags": []
   },
   "source": [
    "## the next graph will show the Yearly and the net Change for the top 5 Countries"
   ]
  },
  {
   "cell_type": "markdown",
   "id": "14bf7c61",
   "metadata": {
    "papermill": {
     "duration": 0.020856,
     "end_time": "2022-04-06T13:55:31.502351",
     "exception": false,
     "start_time": "2022-04-06T13:55:31.481495",
     "status": "completed"
    },
    "tags": []
   },
   "source": [
    "## the next graph will show which countries has the highest Yearly change in 2020"
   ]
  },
  {
   "cell_type": "code",
   "execution_count": 10,
   "id": "e3b9b272",
   "metadata": {
    "execution": {
     "iopub.execute_input": "2022-04-06T13:55:31.547659Z",
     "iopub.status.busy": "2022-04-06T13:55:31.547013Z",
     "iopub.status.idle": "2022-04-06T13:55:31.766544Z",
     "shell.execute_reply": "2022-04-06T13:55:31.767024Z",
     "shell.execute_reply.started": "2022-04-06T13:45:49.099419Z"
    },
    "papermill": {
     "duration": 0.24368,
     "end_time": "2022-04-06T13:55:31.767183",
     "exception": false,
     "start_time": "2022-04-06T13:55:31.523503",
     "status": "completed"
    },
    "tags": []
   },
   "outputs": [
    {
     "data": {
      "image/png": "[encoded data removed]",
      "text/plain": [
       "<Figure size 842.4x595.44 with 1 Axes>"
      ]
     },
     "metadata": {},
     "output_type": "display_data"
    }
   ],
   "source": [
    "sns.set(rc={'figure.figsize':(11.7,8.27)})\n",
    "sns.barplot(x='Country/Other', y='Yearly Change',data=highest_yearly_change)\n",
    "plt.show()\n"
   ]
  },
  {
   "cell_type": "markdown",
   "id": "103d1dfc",
   "metadata": {
    "papermill": {
     "duration": 0.022342,
     "end_time": "2022-04-06T13:55:31.811790",
     "exception": false,
     "start_time": "2022-04-06T13:55:31.789448",
     "status": "completed"
    },
    "tags": []
   },
   "source": [
    "## now you will see the huge Net_change of india population in 2020"
   ]
  },
  {
   "cell_type": "code",
   "execution_count": 11,
   "id": "6aa325d8",
   "metadata": {
    "execution": {
     "iopub.execute_input": "2022-04-06T13:55:31.896937Z",
     "iopub.status.busy": "2022-04-06T13:55:31.886957Z",
     "iopub.status.idle": "2022-04-06T13:55:32.080228Z",
     "shell.execute_reply": "2022-04-06T13:55:32.079566Z",
     "shell.execute_reply.started": "2022-04-06T13:46:14.422076Z"
    },
    "papermill": {
     "duration": 0.246131,
     "end_time": "2022-04-06T13:55:32.080380",
     "exception": false,
     "start_time": "2022-04-06T13:55:31.834249",
     "status": "completed"
    },
    "tags": []
   },
   "outputs": [
    {
     "data": {
      "image/png": "[encoded data removed]",
      "text/plain": [
       "<Figure size 842.4x595.44 with 1 Axes>"
      ]
     },
     "metadata": {},
     "output_type": "display_data"
    }
   ],
   "source": [
    "sns.set(rc={'figure.figsize':(11.7,8.27)})\n",
    "sns.barplot(x='Country/Other', y='Net Change',data=highest_Net_Change)\n",
    "plt.show()"
   ]
  },
  {
   "cell_type": "markdown",
   "id": "9d6a6abd",
   "metadata": {
    "papermill": {
     "duration": 0.02287,
     "end_time": "2022-04-06T13:55:32.126494",
     "exception": false,
     "start_time": "2022-04-06T13:55:32.103624",
     "status": "completed"
    },
    "tags": []
   },
   "source": [
    "## Now for the loswest 5 Net and Yearly Change"
   ]
  },
  {
   "cell_type": "code",
   "execution_count": 12,
   "id": "55094782",
   "metadata": {
    "execution": {
     "iopub.execute_input": "2022-04-06T13:55:32.180838Z",
     "iopub.status.busy": "2022-04-06T13:55:32.180132Z",
     "iopub.status.idle": "2022-04-06T13:55:32.183180Z",
     "shell.execute_reply": "2022-04-06T13:55:32.183623Z",
     "shell.execute_reply.started": "2022-04-06T13:49:46.752918Z"
    },
    "papermill": {
     "duration": 0.034202,
     "end_time": "2022-04-06T13:55:32.183793",
     "exception": false,
     "start_time": "2022-04-06T13:55:32.149591",
     "status": "completed"
    },
    "tags": []
   },
   "outputs": [],
   "source": [
    "highest_yearly_change_bottom=df[['Yearly Change','Country/Other']].sort_values(by='Yearly Change',ascending=False).tail(5)\n",
    "highest_Net_Change_Bottom=df[['Net Change','Country/Other']].sort_values(by='Net Change',ascending=False).tail(5)"
   ]
  },
  {
   "cell_type": "markdown",
   "id": "bcbc55a9",
   "metadata": {
    "papermill": {
     "duration": 0.023525,
     "end_time": "2022-04-06T13:55:32.231497",
     "exception": false,
     "start_time": "2022-04-06T13:55:32.207972",
     "status": "completed"
    },
    "tags": []
   },
   "source": [
    "### you will see puerto rico has the a huge decreasing in the yearly change of 2020 and the other countries also"
   ]
  },
  {
   "cell_type": "code",
   "execution_count": 13,
   "id": "63948b56",
   "metadata": {
    "execution": {
     "iopub.execute_input": "2022-04-06T13:55:32.280901Z",
     "iopub.status.busy": "2022-04-06T13:55:32.280294Z",
     "iopub.status.idle": "2022-04-06T13:55:32.487873Z",
     "shell.execute_reply": "2022-04-06T13:55:32.487313Z",
     "shell.execute_reply.started": "2022-04-06T13:49:58.251389Z"
    },
    "papermill": {
     "duration": 0.233339,
     "end_time": "2022-04-06T13:55:32.488040",
     "exception": false,
     "start_time": "2022-04-06T13:55:32.254701",
     "status": "completed"
    },
    "tags": []
   },
   "outputs": [
    {
     "data": {
      "image/png": "[encoded data removed]",
      "text/plain": [
       "<Figure size 842.4x595.44 with 1 Axes>"
      ]
     },
     "metadata": {},
     "output_type": "display_data"
    }
   ],
   "source": [
    "sns.set(rc={'figure.figsize':(11.7,8.27)})\n",
    "sns.barplot(x='Country/Other', y='Yearly Change',data=highest_yearly_change_bottom)\n",
    "plt.show()\n"
   ]
  },
  {
   "cell_type": "markdown",
   "id": "06e73949",
   "metadata": {
    "papermill": {
     "duration": 0.023764,
     "end_time": "2022-04-06T13:55:32.536233",
     "exception": false,
     "start_time": "2022-04-06T13:55:32.512469",
     "status": "completed"
    },
    "tags": []
   },
   "source": [
    "### Japan is showing a huge decreas in the total Change of its population with almost half million people less in Net Change !!"
   ]
  },
  {
   "cell_type": "code",
   "execution_count": 14,
   "id": "8b2e7bc9",
   "metadata": {
    "execution": {
     "iopub.execute_input": "2022-04-06T13:55:32.624228Z",
     "iopub.status.busy": "2022-04-06T13:55:32.615900Z",
     "iopub.status.idle": "2022-04-06T13:55:32.806544Z",
     "shell.execute_reply": "2022-04-06T13:55:32.806097Z",
     "shell.execute_reply.started": "2022-04-06T13:52:09.054433Z"
    },
    "papermill": {
     "duration": 0.246582,
     "end_time": "2022-04-06T13:55:32.806678",
     "exception": false,
     "start_time": "2022-04-06T13:55:32.560096",
     "status": "completed"
    },
    "tags": []
   },
   "outputs": [
    {
     "data": {
      "image/png": "[encoded data removed]",
      "text/plain": [
       "<Figure size 842.4x595.44 with 1 Axes>"
      ]
     },
     "metadata": {},
     "output_type": "display_data"
    }
   ],
   "source": [
    "sns.set(rc={'figure.figsize':(11.7,8.27)})\n",
    "sns.barplot(x='Country/Other', y='Net Change',data=highest_Net_Change_Bottom)\n",
    "plt.show()"
   ]
  }
 ],
 "metadata": {
  "kernelspec": {
   "display_name": "Python 3",
   "language": "python",
   "name": "python3"
  },
  "language_info": {
   "codemirror_mode": {
    "name": "ipython",
    "version": 3
   },
   "file_extension": ".py",
   "mimetype": "text/x-python",
   "name": "python",
   "nbconvert_exporter": "python",
   "pygments_lexer": "ipython3",
   "version": "3.7.12"
  },
  "papermill": {
   "default_parameters": {},
   "duration": 12.896691,
   "end_time": "2022-04-06T13:55:33.542874",
   "environment_variables": {},
   "exception": null,
   "input_path": "__notebook__.ipynb",
   "output_path": "__notebook__.ipynb",
   "parameters": {},
   "start_time": "2022-04-06T13:55:20.646183",
   "version": "2.3.3"
  }
 },
 "nbformat": 4,
 "nbformat_minor": 5
}
